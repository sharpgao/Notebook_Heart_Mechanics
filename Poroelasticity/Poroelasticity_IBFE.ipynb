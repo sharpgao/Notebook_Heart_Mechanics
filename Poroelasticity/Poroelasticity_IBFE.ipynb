{
 "cells": [
  {
   "cell_type": "code",
   "execution_count": 1,
   "metadata": {},
   "outputs": [],
   "source": [
    "from IPython.display import Image\n",
    "from matplotlib.pyplot import imshow\n",
    "%matplotlib inline\n",
    "\n",
    "##from IPython.core.display import display, HTML\n",
    "##display(HTML(\"<style>.rendered_html { font-size: 24px; }</style>\"))"
   ]
  },
  {
   "cell_type": "code",
   "execution_count": 2,
   "metadata": {
    "scrolled": true
   },
   "outputs": [
    {
     "data": {
      "text/html": [
       "\n",
       "<style>\n",
       "\n",
       "div.cell { /* Tunes the space between cells */\n",
       "margin-top:1em;\n",
       "margin-bottom:1em;\n",
       "}\n",
       "\n",
       "div.text_cell_render h1 { /* Main titles bigger, centered */\n",
       "font-size: 2.2em;\n",
       "line-height:1.4em;\n",
       "text-align:center;\n",
       "}\n",
       "\n",
       "div.text_cell_render h2 { /*  Parts names nearer from text */\n",
       "margin-bottom: -0.4em;\n",
       "}\n",
       "\n",
       "\n",
       "div.text_cell_render { /* Customize text cells */\n",
       "font-family: 'Times New Roman';\n",
       "font-size:1.5em;\n",
       "line-height:1.4em;\n",
       "padding-left:3em;\n",
       "padding-right:3em;\n",
       "}\n",
       "</style>\n"
      ],
      "text/plain": [
       "<IPython.core.display.HTML object>"
      ]
     },
     "execution_count": 2,
     "metadata": {},
     "output_type": "execute_result"
    }
   ],
   "source": [
    "from IPython.core.display import HTML\n",
    "HTML(\"\"\"\n",
    "<style>\n",
    "\n",
    "div.cell { /* Tunes the space between cells */\n",
    "margin-top:1em;\n",
    "margin-bottom:1em;\n",
    "}\n",
    "\n",
    "div.text_cell_render h1 { /* Main titles bigger, centered */\n",
    "font-size: 2.2em;\n",
    "line-height:1.4em;\n",
    "text-align:center;\n",
    "}\n",
    "\n",
    "div.text_cell_render h2 { /*  Parts names nearer from text */\n",
    "margin-bottom: -0.4em;\n",
    "}\n",
    "\n",
    "\n",
    "div.text_cell_render { /* Customize text cells */\n",
    "font-family: 'Times New Roman';\n",
    "font-size:1.5em;\n",
    "line-height:1.4em;\n",
    "padding-left:3em;\n",
    "padding-right:3em;\n",
    "}\n",
    "</style>\n",
    "\"\"\")"
   ]
  },
  {
   "cell_type": "markdown",
   "metadata": {},
   "source": [
    "Latex definition\n",
    "$\\def \\FF{\\mathbb{F}}$\n",
    "$\\def \\PP{\\mathbb{P}}$\n",
    "$\\newcommand{\\V}[1]{\\boldsymbol{\\mathrm #1}}$"
   ]
  },
  {
   "cell_type": "markdown",
   "metadata": {},
   "source": [
    "1.A novel porous mechanical framework for modelling the interaction between\n",
    "coronary perfusion and myocardial mechanics"
   ]
  },
  {
   "cell_type": "markdown",
   "metadata": {},
   "source": [
    "## porous media\n",
    "$$\\phi_f + \\phi_s = 1$$\n",
    "where $\\phi$ and $\\rho$ refer to the volume fractions and density of each phase.  The bulk porous medium will be compressible, regardless of the compressibility of the individual phase. \n",
    "$$m_\\text{total} = \\int_\\Omega (\\rho_f \\phi_f + \\rho_s \\phi_s)\\, d\\Omega$$\n"
   ]
  },
  {
   "cell_type": "markdown",
   "metadata": {},
   "source": [
    "### poroelastic flow equations\n",
    " see ref Coussy 2004\n",
    " \n",
    "* $\\V{X}$ is the reference configuration \n",
    "* $\\V{x}$ is the deformed configuration\n",
    "* $\\V{y} = \\V{x} - \\V{X} $: the displacement of the skeleton\n",
    "* $\\FF = \\frac{\\partial \\V(x)}{\\partial \\V(X)}$ and $J = det(\\FF)$, associated Jacobian\n",
    "\n",
    "#### The Darcy Flow in the Lagrangian formualtion \n",
    "$$\\frac{\\FF \\V{W}}{\\rho_f} = -J \\V{K} \\FF^{-T}\\nabla_{\\V{X}} p $$\n",
    "$$ \\frac{d^s m}{dt} + \\nabla_{\\V{x}}\\cdot \\V{W} = -J \\rho_f s $$\n",
    "$$ \\V{W} = J \\FF^{-1}\\cdot \\V{w}  $$\n",
    "$$ \\V{w} = \\rho_f \\phi_f (\\V{U}^f - \\V{U}^s)  $$\n",
    "$\\V{W}$ is the Lagrangian Darcy flow vector, related to the Eulerian relative flow venctor of fluid mass by $\\V{w}$, and $\\V{U}^f$, $\\V{U}^s$ denote teh velocity of the fluid and of the skeleton particle, respectively. \n",
    "\n",
    "<font, color='red'>The pressure is determined using a constitutive law, the details of which are given in Eqs. (10) - (13) in A.N Cookson et al 2012.</font>\n",
    "\n",
    "$$ \\frac{d^s m}{dt} = \\frac{\\partial m}{\\partial t} + (\\nabla_\\V{x}m)\\cdot \\V{V}^s $$"
   ]
  },
  {
   "cell_type": "markdown",
   "metadata": {},
   "source": [
    "#### Finite-deformation elasticity\n",
    "\\begin{equation}\n",
    "\\nabla_\\V{X} \\cdot (\\FF \\V{S}) = 0  \n",
    "\\end{equation}\n",
    "The above equation is solved subjec to the volume constraint\n",
    "$$J = 1 + \\frac{m}{\\rho_f}$$\n",
    "$$J(1-\\phi) = 1 - \\phi_0 $$\n"
   ]
  },
  {
   "cell_type": "markdown",
   "metadata": {},
   "source": [
    "\n",
    "In IB/FE formulation \n",
    "\\begin{equation}\n",
    "\\begin{split}\n",
    "\\frac{\\rho_0 + m}{J} \\, \\frac{D \\V{v}^{IB}}{D t} = -\\nabla \\cdot \\V{\\sigma} \\\\\n",
    "\\nabla \\cdot \\V{v}^{IB} = s - \\nabla \\cdot \\V{w} \\\\\n",
    "J = 1 + \\frac{m}{\\rho_f} \n",
    "\\end{split}\n",
    "\\end{equation}\n",
    "\n",
    "The Darcy Flow\n",
    "$$  \\frac{\\partial m(\\V{X})}{\\partial t}  + \\nabla_\\V{X} \\cdot (\\rho^f \\V{W}) = J \\rho^f s $$\n",
    "$$\\V{W} = J \\FF^{-1}\\V{w}, \\quad \\mbox{and} \\quad \\V{w} = \\phi_f(\\V{U}^f - \\V{U}^s) $$\n",
    "$$ \\FF \\V{W} = -J\\V{K}\\FF^{-T} \\nabla_\\V{X}p $$\n",
    "\n",
    "The constitutive law\n",
    "$$ p-p_0 = M\\, f(J) [(1-J) + \\frac{m}{\\rho_0}] - \\frac{\\kappa_0}{\\frac{m}{\\rho_0^f + \\phi_0}}  $$\n",
    "$$ \\PP^e = \\frac{\\partial \\Psi}{\\partial \\FF} $$\n"
   ]
  }
 ],
 "metadata": {
  "kernelspec": {
   "display_name": "Python 2",
   "language": "python",
   "name": "python2"
  },
  "language_info": {
   "codemirror_mode": {
    "name": "ipython",
    "version": 2
   },
   "file_extension": ".py",
   "mimetype": "text/x-python",
   "name": "python",
   "nbconvert_exporter": "python",
   "pygments_lexer": "ipython2",
   "version": "2.7.15"
  }
 },
 "nbformat": 4,
 "nbformat_minor": 2
}
