{
 "cells": [
  {
   "cell_type": "code",
   "execution_count": 5,
   "metadata": {
    "collapsed": true
   },
   "outputs": [],
   "source": [
    "from IPython.display import Image\n",
    "from matplotlib.pyplot import imshow\n",
    "%matplotlib inline"
   ]
  },
  {
   "cell_type": "markdown",
   "metadata": {},
   "source": [
    "latex related definitation\n",
    "$\\def \\FF{\\mathbb{F}}$\n",
    "$\\newcommand{\\V}[1]{\\boldsymbol{\\mathrm #1}}$"
   ]
  },
  {
   "cell_type": "markdown",
   "metadata": {},
   "source": [
    "# Towards a Computational Framework for modelling the impact of aortic coarctations upon LV load\n",
    "Karabelas et al 2018\n",
    "\n",
    "## key feature\n",
    "1. Multi-label segmentation of the LV myocardium, blood pool, LA, and aortic cavities using Amira software (https://amira.zib.de/)\n",
    "\n",
    "2. meshed using CGAL (https://www.cgal.org/)\n",
    "$$\\Omega^0_{s,total} = \\cup_{i \\in I} \\Omega_{s,i}^0$$\n",
    "with the index set $I: \\text{lv, ao, cushion, av, mv, lvbp, aobp}$\n",
    "\n",
    "3. EP of LV, a recently developed reactio-eikonal model (Neic et al, 2017), which servers as a trigger for active stress generation in cardiac tissue \n",
    "$$ \\begin{cases} \\sqrt{\\nabla_{\\V{X}} t_a^T \\V{V}  \\nabla_{\\V{X}} t_a } &= 1 \\quad \\text{in} \\quad \\Omega_{s,lv}^0  \\\\ t_a &= t_0 \\quad \\mbox{on} \\quad \\Gamma_{s,*}^0 \\end{cases}$$\n",
    "in which $t_a$ is the arrival time at location $\\V{X}$, $\\V{V}$ is teh squared velocities in fibre, sheet and sheet normal directions. \n",
    "\n",
    "4. Geometry \n",
    "![](figures_plank/Karabelas2018_geo.PNG?raw=true)\n",
    "\n",
    "5. passive mechanics \n",
    "$$ \\V{S} =\\V{S}_\\text{pas} + \\V{S}_\\text{act} = 2\\frac{\\partial \\psi(\\V{C})}{\\partial \\V{C}}$$\n",
    "The transversely isotropic constitutive realtion from Guccione et al used. \n",
    "\n",
    "6. Active mechanics\n",
    "A simplified phenomenological contractile model was used to represent active stress generation (Niederer S. A. 2011), which has small number of parameters and its direct relation to clinically measureable quantities. This model is farrly easy to fit and thus very sutable for being used in clinical EM modelling studies. \n",
    "\n",
    "$$ S_a(t, \\lambda) = S_\\text{peak} \\phi(\\lambda) \\tanh^2(\\frac{t_s}{\\tau_c}) \\tanh^2(\\frac{t_\\text{dur} - t_s}{\\tau_r}), \\quad 0 \\le t_s \\le t_\\text{dur} $$\n",
    "and \n",
    "$$\\phi = \\tanh (ld (\\lambda - \\lambda_0)), \\quad \\tau_c = \\tau_{c_0} + ld_\\text{up}(1-\\phi), \\quad t_s = t - t_a - t_\\text{emd} $$\n",
    "\n",
    "* $t_s$ is the onset of contraction \n",
    "* $\\phi(\\lambda)$ is a nonlinear length dependent function, set to be $\\phi = 1$ for the whole simulation\n",
    "* $\\lambda$ is the fiber stretch \n",
    "* $\\lambda_0$ is the lower limit of fiber stretch below which no further activaiton is generated\n",
    "* $t_a$ is the local activation time from the EP model\n",
    "* $t_\\text{emd}$ is the EM delay between the onsets of electrical depolarization and active stress generation \n",
    "* $S_\\text{peak}$ is the peak isometric tension \n",
    "* $t_\\text{dur} $ is the duration of active stress transient\n",
    "* $\\tau_c $ is a time constant of contraction \n",
    "* $\\tau_{c_0}$ is the base line time constant of contraction \n",
    "* $\\tau_r $ is the time constant of relaxation \n",
    "* $ld_\\text{up}$ is the length dependence of  $\\tau_c $\n",
    "\n",
    "Finally \n",
    "$$\\V{S}_a = S_a (\\V{f_0 \\cdot \\V{C}\\V{f_0}})^{-1} \\V{f_0 \\otimes \\V{f_0}}   $$\n",
    "\n",
    "\n",
    "Parameters of the active stress model were fitted during IVC and ejection phase. During IVC  the LV volume was held constant and the parameters of teh active stress given in the above euqation $\\tau_c$ and $S_\\text{peak}$ were manually adjusted to fit the maximum rate of rise of pressure $(\\frac{dP}{dt})_\\text{max}$ and peak pressure $p_{lv}$. \n",
    "\n",
    "**one set of parameter is **\n",
    "$$S_{peak} = 60.0 kPa, t_\\text{dur} = 380 ms, \\tau_{c_0} = 30, \\tau_r = 30.0, t_\\text{emd} = 15 ms$$\n",
    "\n",
    "\n",
    "\n",
    "\n"
   ]
  }
 ],
 "metadata": {
  "kernelspec": {
   "display_name": "Python 2",
   "language": "python",
   "name": "python2"
  },
  "language_info": {
   "codemirror_mode": {
    "name": "ipython",
    "version": 2
   },
   "file_extension": ".py",
   "mimetype": "text/x-python",
   "name": "python",
   "nbconvert_exporter": "python",
   "pygments_lexer": "ipython2",
   "version": "2.7.11"
  }
 },
 "nbformat": 4,
 "nbformat_minor": 0
}
