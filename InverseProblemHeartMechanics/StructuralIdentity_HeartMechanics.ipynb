{
 "cells": [
  {
   "cell_type": "code",
   "execution_count": 3,
   "metadata": {},
   "outputs": [],
   "source": [
    "from IPython.display import Image\n",
    "from matplotlib.pyplot import imshow\n",
    "%matplotlib inline"
   ]
  },
  {
   "cell_type": "code",
   "execution_count": 5,
   "metadata": {
    "scrolled": true
   },
   "outputs": [
    {
     "data": {
      "text/html": [
       "\n",
       "<style>\n",
       "\n",
       "div.cell { /* Tunes the space between cells */\n",
       "margin-top:1em;\n",
       "margin-bottom:1em;\n",
       "}\n",
       "\n",
       "div.text_cell_render h1 { /* Main titles bigger, centered */\n",
       "font-size: 2.2em;\n",
       "line-height:1.4em;\n",
       "text-align:center;\n",
       "}\n",
       "\n",
       "div.text_cell_render h2 { /*  Parts names nearer from text */\n",
       "margin-bottom: -0.4em;\n",
       "}\n",
       "\n",
       "\n",
       "div.text_cell_render { /* Customize text cells */\n",
       "font-family: 'Times New Roman';\n",
       "font-size:1.5em;\n",
       "line-height:1.4em;\n",
       "padding-left:3em;\n",
       "padding-right:3em;\n",
       "}\n",
       "</style>\n"
      ],
      "text/plain": [
       "<IPython.core.display.HTML object>"
      ]
     },
     "execution_count": 5,
     "metadata": {},
     "output_type": "execute_result"
    }
   ],
   "source": [
    "from IPython.core.display import HTML\n",
    "HTML(\"\"\"\n",
    "<style>\n",
    "\n",
    "div.cell { /* Tunes the space between cells */\n",
    "margin-top:1em;\n",
    "margin-bottom:1em;\n",
    "}\n",
    "\n",
    "div.text_cell_render h1 { /* Main titles bigger, centered */\n",
    "font-size: 2.2em;\n",
    "line-height:1.4em;\n",
    "text-align:center;\n",
    "}\n",
    "\n",
    "div.text_cell_render h2 { /*  Parts names nearer from text */\n",
    "margin-bottom: -0.4em;\n",
    "}\n",
    "\n",
    "\n",
    "div.text_cell_render { /* Customize text cells */\n",
    "font-family: 'Times New Roman';\n",
    "font-size:1.5em;\n",
    "line-height:1.4em;\n",
    "padding-left:3em;\n",
    "padding-right:3em;\n",
    "}\n",
    "</style>\n",
    "\"\"\")"
   ]
  },
  {
   "cell_type": "markdown",
   "metadata": {},
   "source": [
    "Latex definition\n",
    "$\\def \\FF{\\mathbb{F}}$\n",
    "$\\def \\PP{\\mathbb{P}}$\n",
    "$\\newcommand{\\V}[1]{\\boldsymbol{\\mathrm #1}}$"
   ]
  },
  {
   "cell_type": "markdown",
   "metadata": {},
   "source": [
    "Find the deformation and hydrostatic pressure pair $x = (\\V{u}_\\theta, p_\\theta)$ in $\\V{W}_0 = \\V{H}_0^1(\\Omega) \\times L^2(\\Omega)$\n",
    "\\begin{equation}\n",
    " \\V{F}(\\V{\\theta}; x, y) = \\int_\\Omega ( \\V{\\sigma}(\\V{\\theta}; \\V{u}) + p\\V{I} ): \\nabla \\V{v} d \\V{v} -\\int_{\\Gamma^N} \\V{t} \\cdot \\V{v}da + \\int_{\\Omega_0} q(J-1)dV\n",
    "\\end{equation}\n",
    "in which $x=(\\V{u}, p)$ is the state solution, and $y=(\\V{v},q)$ are test functions."
   ]
  },
  {
   "cell_type": "markdown",
   "metadata": {},
   "source": [
    "### The Neo-Hooken law\n",
    "\\begin{equation}\n",
    "\\Psi = \\frac{\\mu}{2}(I_\\bar{\\V{C}} -3)\n",
    "\\end{equation} \n",
    "The corresonding deviatoric stress is expressed as \n",
    "\\begin{equation}\n",
    "\\V{\\sigma} = \\frac{\\mu}{J^{5/3}} (\\V{b} -\\frac{I_\\bar{\\V{C}}}{3} \\V{I})\n",
    "\\end{equation}\n",
    "\n",
    "\n",
    "### The Neo-fibre law\n",
    "\\begin{equation}\n",
    "\\Psi = \\frac{1}{2a+1}(C_1 - C_2)(I_\\bar{\\V{C}_f} -1)^{a+1} + \\frac{C_2}{2}(I_\\bar{\\V{C}} -3)\n",
    "\\end{equation}\n",
    "and $I_\\bar{\\V{C}_f} = \\bar{\\V{C}} : \\V{f}_0 \\otimes \\V{f}_0 $\n",
    "\n",
    "### The H-O law\n",
    "\\begin{equation}\n",
    "\\begin{split}\n",
    "\\Psi &= \\frac{a}{2b} \\exp \\{[b(I_\\bar{\\V{C}}-3)] -1\\} + \\frac{a_f}{2b_f} \\{  \\exp[b_f (I_\\bar{\\V{C}_f}-1)^2]  -1\\} \\\\\n",
    "     &= \\frac{a_s}{2b_s} \\{  \\exp[b_s (I_\\bar{\\V{C}_s}-1)^2]  -1\\}  + \\frac{a_{fs}}{2b_{fs}} \\{  \\exp[b_{fs} (I_\\bar{\\V{C}_{fs}})^2]  -1\\} \n",
    "\\end{split}\n",
    "\\end{equation}\n",
    "in which $a_s$ and $a_{fs}$ are set to zero, and the exponents $b=5$ and $b_f=5$ are kept constant, to allow for better indentifiability. \n",
    "\n",
    "\n",
    "\n"
   ]
  },
  {
   "cell_type": "markdown",
   "metadata": {},
   "source": [
    "## Parameter Estimation\n",
    "An obejctive function $J_\\theta$\n",
    "$$ J_\\theta(\\V{\\theta}_\\text{min}) < \\text{min}_{\\theta \\in P/\\V{\\theta}_\\text{min}} J_\\theta(\\V{\\theta}) $$\n",
    "\n",
    "Question: the identifiability of $\\V{\\theta}_\\text{min}$\n"
   ]
  }
 ],
 "metadata": {
  "kernelspec": {
   "display_name": "Python 2",
   "language": "python",
   "name": "python2"
  },
  "language_info": {
   "codemirror_mode": {
    "name": "ipython",
    "version": 2
   },
   "file_extension": ".py",
   "mimetype": "text/x-python",
   "name": "python",
   "nbconvert_exporter": "python",
   "pygments_lexer": "ipython2",
   "version": "2.7.15"
  }
 },
 "nbformat": 4,
 "nbformat_minor": 2
}
